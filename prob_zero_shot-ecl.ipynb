{
 "cells": [
  {
   "cell_type": "code",
   "execution_count": 1,
   "metadata": {},
   "outputs": [],
   "source": [
    "from data_provider.data_factory import data_provider\n",
    "from utils.tools import EarlyStopping, adjust_learning_rate, visual, vali, test\n",
    "from torch.utils.data import Subset\n",
    "from tqdm import tqdm\n",
    "from models.PatchTST import PatchTST\n",
    "from models.GPT4TS import GPT4TS\n",
    "from models.DLinear import DLinear\n",
    "from models.TEMPO import TEMPO\n",
    "# from models.T5 import T54TS\n",
    "from models.ETSformer import ETSformer\n",
    "\n",
    "\n",
    "import numpy as np\n",
    "import torch"
   ]
  },
  {
   "cell_type": "code",
   "execution_count": 2,
   "metadata": {},
   "outputs": [],
   "source": [
    "import torch.nn as nn\n",
    "from torch import optim\n",
    "from numpy.random import choice\n",
    "\n",
    "import os\n",
    "import time\n",
    "\n",
    "import warnings\n",
    "import matplotlib.pyplot as plt\n",
    "import numpy as np\n",
    "\n",
    "import argparse\n",
    "import random\n",
    "import sys\n",
    "\n",
    "from omegaconf import OmegaConf\n",
    "\n",
    "import torch.nn as nn\n",
    "from torch import optim\n",
    "from numpy.random import choice\n",
    "\n",
    "import os\n",
    "import time\n",
    "\n",
    "import warnings\n",
    "import matplotlib.pyplot as plt\n",
    "import numpy as np\n",
    "\n",
    "import argparse\n",
    "import random\n",
    "import sys\n",
    "\n",
    "from omegaconf import OmegaConf"
   ]
  },
  {
   "cell_type": "code",
   "execution_count": 3,
   "metadata": {},
   "outputs": [],
   "source": [
    "def get_init_config(config_path=None):\n",
    "    config = OmegaConf.load(config_path)\n",
    "    return config"
   ]
  },
  {
   "cell_type": "code",
   "execution_count": 4,
   "metadata": {},
   "outputs": [],
   "source": [
    "from omegaconf import OmegaConf\n",
    "\n",
    "# Define the configuration dictionary\n",
    "config = {\n",
    "    \"datasets\": {\n",
    "        \"ECL\": {\n",
    "            \"root_path\": \"/u/dcao1/workspace/Generative-TS-train_all/csdi_data/\",\n",
    "            \"data_path\": \"electricity_nips\",\n",
    "            \"data_name\": \"ECL\",\n",
    "            \"data\": \"ecl\",\n",
    "            \"lradj\": \"type4\",\n",
    "            \"features\": \"M\",\n",
    "            \"target\": \"400001\",\n",
    "            \"embed\": \"timeF\",\n",
    "            \"freq\": 0,\n",
    "            \"percent\": 100\n",
    "        }\n",
    "    }\n",
    "}\n",
    "\n",
    "# Create an OmegaConf object from the dictionary\n",
    "cfg = OmegaConf.create(config)\n"
   ]
  },
  {
   "cell_type": "code",
   "execution_count": 5,
   "metadata": {},
   "outputs": [
    {
     "name": "stdout",
     "output_type": "stream",
     "text": [
      "Configuration saved to ./configs/custom_dataset.yml\n"
     ]
    }
   ],
   "source": [
    "\n",
    "# Save the configuration to a YAML file\n",
    "with open(\"./configs/custom_dataset.yml\", \"w\") as f:\n",
    "    OmegaConf.save(cfg, f)\n",
    "\n",
    "print(\"Configuration saved to ./configs/custom_dataset.yml\")"
   ]
  },
  {
   "cell_type": "code",
   "execution_count": 12,
   "metadata": {},
   "outputs": [
    {
     "name": "stdout",
     "output_type": "stream",
     "text": [
      "Configuration written to config.yml\n"
     ]
    }
   ],
   "source": [
    "config = {\n",
    "    \"description\": \"TEMPO\",\n",
    "    \"checkpoints\": \"checkpoints/lora_revin_5domain_checkpoints_1/\",\n",
    "    \"task_name\": \"long_term_forecast\",\n",
    "    \"prompt\": 1,\n",
    "    \"num_nodes\": 1,\n",
    "    \"seq_len\": 168,\n",
    "    \"pred_len\": 30,\n",
    "    \"label_len\": 30,\n",
    "    \"decay_fac\": 0.5,\n",
    "    \"learning_rate\": 0.001,\n",
    "    \"batch_size\": 256,\n",
    "    \"num_workers\": 0,\n",
    "    \"train_epochs\": 10,\n",
    "    \"lradj\": \"type3\",\n",
    "    \"patience\": 5,\n",
    "    \"gpt_layers\": 6,\n",
    "    \"is_gpt\": 1,\n",
    "    \"e_layers\": 3,\n",
    "    \"d_model\": 768,\n",
    "    \"n_heads\": 4,\n",
    "    \"d_ff\": 768,\n",
    "    \"dropout\": 0.3,\n",
    "    \"enc_in\": 7,\n",
    "    \"c_out\": 1,\n",
    "    \"patch_size\": 16,\n",
    "    \"kernel_size\": 25,\n",
    "    \"loss_func\": \"mse\",\n",
    "    \"pretrain\": 1,\n",
    "    \"freeze\": 1,\n",
    "    \"model\": \"TEMPO\",\n",
    "    \"stride\": 8,\n",
    "    \"max_len\": -1,\n",
    "    \"hid_dim\": 16,\n",
    "    \"tmax\": 20,\n",
    "    \"itr\": 3,\n",
    "    \"cos\": 1,\n",
    "    \"equal\": 1,\n",
    "    \"pool\": False,\n",
    "    \"no_stl_loss\": False,\n",
    "    \"stl_weight\": 0.001,\n",
    "    \"config_path\": \"./configs/custom_dataset.yml\",\n",
    "    \"datasets\": \"ETTm1,ETTh1,ETTm2,electricity,traffic,weather\",\n",
    "    \"target_data\": \"ECL\",\n",
    "    \"use_token\": 0,\n",
    "    \"electri_multiplier\": 1,\n",
    "    \"traffic_multiplier\": 1,\n",
    "    \"embed\": \"timeF\",\n",
    "    \"percent\": 100,\n",
    "    \"model_id\": 'prob_TEMPO_6_prompt_learn_168_30_100_sl336_ll30_pl30_dm768_nh4_el3_gl6_df768_ebtimeF_itr0'\n",
    "    #\"model_id\": 'prob_TEMPO_6_prompt_learn_168_24_100_sl336_ll168_pl24_dm768_nh4_el3_gl6_df768_ebtimeF_itr0' #\"prob_TEMPO_6_prompt_learn_168_24_100_sl336_ll30_pl30_dm768_nh4_el3_gl6_df768_ebtimeF_itr0\"\n",
    "    # \"model_id\": \"prob_TEMPO_6_prompt_learn_168_30_100_sl336_ll30_pl30_dm768_nh4_el3_gl6_df768_ebtimeF_itr0\"\n",
    "}\n",
    "\n",
    "# Create an OmegaConf object from the dictionary\n",
    "cfg = OmegaConf.create(config)\n",
    "\n",
    "# Save the configuration to a YAML file\n",
    "with open(\"configs/etth2_config.yml\", \"w\") as f:\n",
    "    OmegaConf.save(cfg, f)\n",
    "\n",
    "print(\"Configuration written to config.yml\")"
   ]
  },
  {
   "cell_type": "code",
   "execution_count": 13,
   "metadata": {},
   "outputs": [],
   "source": [
    "config = get_init_config(cfg.config_path)"
   ]
  },
  {
   "cell_type": "code",
   "execution_count": 14,
   "metadata": {},
   "outputs": [],
   "source": [
    "SEASONALITY_MAP = {\n",
    "   \"minutely\": 1440,\n",
    "   \"10_minutes\": 144,\n",
    "   \"half_hourly\": 48,\n",
    "   \"hourly\": 24,\n",
    "   \"daily\": 7,\n",
    "   \"weekly\": 1,\n",
    "   \"monthly\": 12,\n",
    "   \"quarterly\": 4,\n",
    "   \"yearly\": 1\n",
    "}"
   ]
  },
  {
   "cell_type": "code",
   "execution_count": 15,
   "metadata": {},
   "outputs": [],
   "source": [
    "device = torch.device('cuda:0')"
   ]
  },
  {
   "cell_type": "code",
   "execution_count": 16,
   "metadata": {},
   "outputs": [
    {
     "name": "stdout",
     "output_type": "stream",
     "text": [
      "trainable params: 308736 || all params: 82207488 || trainable%: 0.38\n"
     ]
    }
   ],
   "source": [
    "if cfg.model == 'PatchTST':\n",
    "    model = PatchTST(cfg, device)\n",
    "    model.to(device)\n",
    "elif cfg.model == 'DLinear':\n",
    "    model = DLinear(cfg, device)\n",
    "    model.to(device)\n",
    "elif cfg.model == 'TEMPO':\n",
    "    model = TEMPO(cfg, device)\n",
    "    model.to(device)\n",
    "elif cfg.model == 'T5':\n",
    "    model = T54TS(cfg, device)\n",
    "    model.to(device)\n",
    "elif 'ETSformer' in cfg.model:\n",
    "    model = ETSformer(cfg, device)\n",
    "    model.to(device)\n",
    "else:\n",
    "    model = GPT4TS(cfg, device)\n",
    "\n",
    "\n",
    "params = model.parameters()\n",
    "model_optim = torch.optim.Adam(params, lr=cfg.learning_rate)\n",
    "\n",
    "early_stopping = EarlyStopping(patience=cfg.patience, verbose=True)\n",
    "if cfg.loss_func == 'mse':\n",
    "    criterion = nn.MSELoss()\n",
    "elif cfg.loss_func == 'smape':\n",
    "    class SMAPE(nn.Module):\n",
    "        def __init__(self):\n",
    "            super(SMAPE, self).__init__()\n",
    "        def forward(self, pred, true):\n",
    "            return torch.mean(200 * torch.abs(pred - true) / (torch.abs(pred) + torch.abs(true) + 1e-8))\n",
    "    criterion = SMAPE()\n",
    "\n",
    "scheduler = torch.optim.lr_scheduler.CosineAnnealingLR(model_optim, T_max=cfg.tmax, eta_min=1e-8)"
   ]
  },
  {
   "cell_type": "code",
   "execution_count": 17,
   "metadata": {},
   "outputs": [
    {
     "name": "stdout",
     "output_type": "stream",
     "text": [
      "checkpoints/lora_revin_5domain_checkpoints_1/prob_TEMPO_6_prompt_learn_168_30_100_sl336_ll30_pl30_dm768_nh4_el3_gl6_df768_ebtimeF_itr0/checkpoint.pth\n",
      "------------------------------------\n"
     ]
    }
   ],
   "source": [
    "model_path = os.path.join(cfg.checkpoints, cfg.model_id)\n",
    "best_model_path = model_path + '/checkpoint.pth'\n",
    "print(best_model_path)\n",
    "model.load_state_dict(torch.load(best_model_path,  map_location=torch.device(device)), strict=False)\n",
    "print(\"------------------------------------\")"
   ]
  },
  {
   "cell_type": "code",
   "execution_count": 18,
   "metadata": {},
   "outputs": [
    {
     "name": "stdout",
     "output_type": "stream",
     "text": [
      "self.enc_in = 370\n",
      "self.data_x = (7, 370)\n",
      "test 7\n"
     ]
    }
   ],
   "source": [
    "cfg.data = config['datasets'][cfg.target_data].data\n",
    "cfg.root_path = config['datasets'][cfg.target_data].root_path\n",
    "cfg.data_path = config['datasets'][cfg.target_data].data_path\n",
    "cfg.data_name = config['datasets'][cfg.target_data].data_name\n",
    "cfg.features = config['datasets'][cfg.target_data].features\n",
    "cfg.freq = config['datasets'][cfg.target_data].freq\n",
    "cfg.target = config['datasets'][cfg.target_data].target\n",
    "cfg.embed = config['datasets'][cfg.target_data].embed\n",
    "cfg.percent = config['datasets'][cfg.target_data].percent\n",
    "cfg.lradj = config['datasets'][cfg.target_data].lradj\n",
    "if cfg.freq == 0:\n",
    "    cfg.freq = 'h'\n",
    "cfg.seq_len = 168 + 24\n",
    "cfg.pred_len = 24 \n",
    "test_data, test_loader = data_provider(cfg, 'test')"
   ]
  },
  {
   "cell_type": "code",
   "execution_count": 19,
   "metadata": {},
   "outputs": [
    {
     "data": {
      "text/plain": [
       "array([1.15276130e+02, 1.47397511e+02, 6.35067272e+01, 1.01070956e+02,\n",
       "       7.58405982e+01, 3.31081975e+01, 4.57085020e+02, 4.93287882e+02,\n",
       "       9.47804234e+00, 2.22973609e+03, 2.44243172e+02, 1.97515179e+03,\n",
       "       2.23693582e+03, 1.13372034e+02, 4.64249180e+02, 5.83736119e+02,\n",
       "       1.11329022e+02, 8.63760072e+01, 1.00248877e+03, 8.58561621e+01,\n",
       "       5.99623908e+01, 8.76977168e+02, 1.86530945e+02, 9.07697424e+02,\n",
       "       6.42006662e+01, 3.73959144e+02, 4.32386718e+01, 8.12590213e+02,\n",
       "       3.35626322e+01, 4.04535862e+01, 2.00329203e+02, 4.11144110e+01,\n",
       "       2.63150090e+01, 1.15248079e+03, 3.19602954e+02, 9.21947516e+02,\n",
       "       4.87250686e+04, 1.76907901e+04, 9.47384413e+01, 7.52868815e+02,\n",
       "       4.76208078e+02, 8.06064311e+02, 4.82057762e+02, 3.50051273e+02,\n",
       "       9.59660644e+01, 2.62262610e+03, 1.45180629e+01, 9.09056629e+01,\n",
       "       1.63716938e+02, 1.99858671e+02, 3.64408540e+02, 2.24329067e+02,\n",
       "       1.10133322e+03, 2.18013187e+02, 1.57736250e+02, 7.35230875e+01,\n",
       "       3.69886466e+01, 8.00295936e+01, 1.44691822e+02, 1.27283238e+02,\n",
       "       1.07451042e+03, 1.05880662e+02, 7.17432372e+01, 1.84852019e+02,\n",
       "       3.24623334e+01, 8.17492677e+01, 1.47566776e+02, 1.11090684e+02,\n",
       "       8.02935827e+01, 7.41867920e+02, 3.15731167e+01, 8.73267847e+01,\n",
       "       5.20733397e+02, 8.87015983e+01, 2.41763838e+02, 9.59003613e+01,\n",
       "       2.74494703e+02, 6.53452506e+00, 7.27962986e+01, 6.78307640e+01,\n",
       "       1.15346822e+02, 6.30528070e+01, 1.83148510e+02, 3.91621308e+02,\n",
       "       1.71546355e+00, 3.30040587e+01, 1.52474122e+02, 1.58902427e+01,\n",
       "       1.16574300e+04, 4.91325288e+01, 6.00605572e+02, 1.51395787e+02,\n",
       "       3.67225149e+00, 1.49276983e+02, 1.25327281e+02, 1.58032281e+02,\n",
       "       4.36527035e+02, 1.82221557e+03, 1.48681675e+02, 7.24681856e+01,\n",
       "       2.05739113e+03, 3.40544169e+02, 1.89901782e+02, 1.36697611e+02,\n",
       "       2.44325658e+01, 1.10820510e+01, 1.18973931e+02, 1.82966076e+02,\n",
       "       1.78185610e+01, 4.05512255e+01, 7.38022888e+01, 7.78391602e+01,\n",
       "       2.01421586e+02, 2.92195986e+02, 2.81845491e+03, 3.85783426e+01,\n",
       "       7.60083599e+01, 3.63412479e+02, 1.52384660e+02, 2.29689628e+01,\n",
       "       4.00496379e+01, 7.09056423e+01, 1.93156006e+02, 1.31842967e+02,\n",
       "       2.29517433e+02, 3.33786875e+03, 1.21571189e+02, 8.41683379e+01,\n",
       "       1.61350501e+02, 7.12073141e+01, 8.94587740e+01, 8.97244769e+01,\n",
       "       1.42923888e+02, 6.39624482e+02, 8.13229839e+01, 1.36808850e+02,\n",
       "       2.46908825e+02, 2.73408836e+01, 5.12311156e+01, 5.90798835e+01,\n",
       "       3.11447954e+02, 5.42860053e+02, 5.10490461e+01, 2.48662838e+02,\n",
       "       8.61752924e+01, 1.28207742e+02, 8.57040280e+01, 3.08851256e+02,\n",
       "       8.65423190e+01, 1.45243181e+02, 3.93920435e+01, 1.53871318e+01,\n",
       "       2.67036623e+01, 4.86862404e+01, 4.35857031e+00, 1.24683227e+03,\n",
       "       9.50315728e+01, 5.16284954e+01, 6.97406957e+01, 1.98404569e+01,\n",
       "       4.30329940e+01, 4.34271283e+01, 6.14048841e+01, 2.87772242e+02,\n",
       "       3.67126401e+03, 2.19142491e+02, 3.67970427e+01, 6.21571397e+02,\n",
       "       1.44374004e+03, 2.48095660e+01, 7.03665852e+01, 4.98723889e+02,\n",
       "       4.86002611e+01, 1.37509332e+02, 1.06897066e+02, 1.47756254e+01,\n",
       "       1.34482351e+02, 1.05805800e+02, 1.61197096e+02, 5.48103576e+03,\n",
       "       1.38927816e+02, 1.12057364e+02, 1.17332653e+03, 1.47228509e+02,\n",
       "       6.57899270e+01, 3.87762609e+02, 2.48939747e+02, 2.67455971e+03,\n",
       "       2.47700168e+02, 8.07610399e+00, 1.31112544e+02, 4.78822895e+01,\n",
       "       2.27433559e+01, 3.14951566e+01, 4.13525806e+02, 1.20790771e+02,\n",
       "       1.11123044e+02, 7.06507255e+02, 1.20841226e+02, 4.85575838e+02,\n",
       "       1.16390047e+02, 1.66469958e+02, 2.61913164e+02, 9.29869692e+01,\n",
       "       5.63302827e+02, 1.67743885e+03, 3.75621950e+01, 1.56677702e+02,\n",
       "       1.42752970e+01, 8.82423175e+01, 8.70602343e+02, 1.26415189e+02,\n",
       "       1.46411339e+02, 2.85538525e+02, 2.39040899e+01, 1.29801133e+02,\n",
       "       8.30345722e+01, 1.28500097e+02, 4.87973246e+02, 3.78717977e+01,\n",
       "       7.19105809e+01, 1.95953485e+01, 1.48302731e+02, 2.73190626e+01,\n",
       "       4.07746635e+01, 3.43861485e+01, 4.61502804e+01, 8.85562470e+01,\n",
       "       1.24713674e+02, 1.11300180e+01, 3.13948372e+03, 8.44095349e+01,\n",
       "       6.29939874e+03, 2.41845666e+03, 9.24255500e+02, 2.34879923e+02,\n",
       "       7.90085598e+01, 9.25372517e+01, 2.78868282e+02, 3.68925096e+01,\n",
       "       1.61067190e+02, 3.03756149e+02, 4.49197618e+01, 2.47578291e+01,\n",
       "       8.31074484e+02, 8.38527150e+01, 5.69624234e+02, 1.94931001e+02,\n",
       "       1.91923663e+04, 6.43535431e+01, 2.03975207e+02, 2.14348337e+01,\n",
       "       8.09652759e+01, 1.04029928e+03, 1.11831485e+02, 2.50018368e+02,\n",
       "       6.57531196e+01, 1.83988575e+02, 1.02768594e+01, 4.13445166e+01,\n",
       "       6.80081485e+01, 2.78760773e+02, 5.96017172e+00, 2.05135548e+02,\n",
       "       5.97343277e+02, 2.26592351e+02, 2.45650850e+02, 1.06484801e+03,\n",
       "       1.55999477e+02, 1.17221333e+03, 5.55894237e+01, 6.11989202e+02,\n",
       "       7.20111101e+01, 4.67227333e+01, 4.43769958e+01, 1.21099385e+02,\n",
       "       1.38206925e+02, 1.37251497e+01, 3.52314817e+02, 1.58562987e+02,\n",
       "       1.47278855e+03, 8.41935877e+01, 1.38293828e+02, 4.45459590e+02,\n",
       "       1.22442968e+03, 9.40276264e+01, 2.82642997e+01, 1.51308456e+03,\n",
       "       3.25632702e+01, 6.74772777e+01, 4.48746492e+01, 4.60197215e+02,\n",
       "       2.09146278e+01, 6.67362188e+02, 5.65173462e+01, 7.37248289e+01,\n",
       "       1.15651811e+02, 3.06877200e+02, 7.00591345e+01, 3.88499803e+02,\n",
       "       1.74735212e+03, 3.91735754e+02, 4.22738890e+01, 2.46662474e+01,\n",
       "       2.11026894e+02, 4.83271871e+01, 3.27779674e+02, 1.63295685e+02,\n",
       "       5.51609264e+02, 1.98577057e+02, 5.11078051e+01, 2.69948845e+02,\n",
       "       7.28229718e+01, 1.06988409e+02, 1.18425901e+02, 1.30943909e+02,\n",
       "       1.20390295e+02, 2.30253053e+02, 9.20398557e+02, 6.70607977e+02,\n",
       "       3.01344428e+01, 8.42019595e+01, 0.00000000e+00, 2.63284950e+02,\n",
       "       1.82678427e+02, 3.58340523e+01, 7.24244995e+02, 5.28488489e+02,\n",
       "       1.89844448e+02, 1.32550339e+02, 1.48571500e+02, 1.80254028e+02,\n",
       "       1.19072027e+02, 5.71055439e+02, 5.66363056e+02, 8.43794717e+01,\n",
       "       1.02196474e+02, 5.26105956e+01, 8.34601821e+01, 2.22844030e+02,\n",
       "       1.06030780e+02, 4.39074112e+00, 2.66602457e+02, 5.64472104e+01,\n",
       "       1.95625177e+03, 8.12833801e+01, 9.21047301e+01, 6.19243707e+01,\n",
       "       4.26179071e+02, 1.04044455e+01, 5.25165543e+01, 9.30964403e+00,\n",
       "       9.25380598e+01, 5.23240160e+02, 1.93623713e+02, 6.50837142e+01,\n",
       "       2.73884840e+01, 1.91819011e+02, 1.97464310e+01, 6.60337669e+01,\n",
       "       1.25536530e+02, 3.96134369e+01, 1.08350126e+02, 2.32805397e+02,\n",
       "       5.03830137e+02, 5.54015053e+01, 2.56354089e+03, 1.57708108e+02,\n",
       "       2.46584888e+02, 8.97231200e+01])"
      ]
     },
     "execution_count": 19,
     "metadata": {},
     "output_type": "execute_result"
    }
   ],
   "source": [
    "test_data.mean_data"
   ]
  },
  {
   "cell_type": "code",
   "execution_count": 20,
   "metadata": {},
   "outputs": [
    {
     "name": "stdout",
     "output_type": "stream",
     "text": [
      "torch.Size([35, 370, 30])\n",
      "torch.Size([35, 370, 30])\n",
      "torch.Size([35, 370, 30])\n",
      "torch.Size([35, 370, 30])\n",
      "torch.Size([35, 370, 30])\n",
      "torch.Size([35, 370, 30])\n",
      "torch.Size([35, 370, 30])\n"
     ]
    }
   ],
   "source": [
    "# %%\n",
    "import torch.distributions as dist\n",
    "preds = []\n",
    "trues = []\n",
    "# mases = []\n",
    "\n",
    "# Initialize accumulators for errors\n",
    "total_mae = 0\n",
    "total_mse = 0\n",
    "n_samples = 0\n",
    "itr = 0\n",
    "\n",
    "cfg.seq_len = 168\n",
    "cfg.pred_len = 24\n",
    "model.eval()\n",
    "# import pdb; pdb.set_trace()\n",
    "with torch.no_grad():\n",
    "    for i in range(len(test_data)):\n",
    "        #enumerate(test_loader): #tqdm(enumerate(test_loader), total=len(test_loader)):\n",
    "        data = test_data[i]\n",
    "        seq_x, text_embedding, observed_mask = data[0].to(device), data[1].to(device), data[2].to(device)\n",
    "        seq_x = seq_x.float().to(device)\n",
    "        batch_x = seq_x[:, :cfg.seq_len].unsqueeze(-1) # 137, 168, 1\n",
    "        batch_y = seq_x[:,cfg.seq_len:cfg.seq_len+cfg.pred_len]\n",
    "        trues.append(batch_y.cpu().numpy())\n",
    "\n",
    "                        \n",
    "        outputs, _ = model(batch_x, 0, None, None, None) #+ model(seq_seasonal, ii) + model(seq_resid, ii)\n",
    "\n",
    "        mu, sigma, nu = outputs[0], outputs[1], outputs[2]\n",
    "        # Create the Student's t-distribution with the predicted parameters\n",
    "        student_t = dist.StudentT(df=nu, loc=mu, scale=sigma)\n",
    "\n",
    "        # Generate 30 samples for each prediction\n",
    "        num_samples = 35\n",
    "        probabilistic_forecasts = student_t.rsample((num_samples,))\n",
    "\n",
    "        # The shape of probabilistic_forecasts will be (num_samples, batch_size, pred_length)\n",
    "        print(probabilistic_forecasts.shape)\n",
    "        preds.append(probabilistic_forecasts.cpu().numpy())\n"
   ]
  },
  {
   "cell_type": "code",
   "execution_count": 21,
   "metadata": {},
   "outputs": [
    {
     "data": {
      "text/plain": [
       "array([[-1.284714  , -1.4160967 , -1.4059902 , ..., -0.7692896 ,\n",
       "        -0.99162954, -1.1331185 ],\n",
       "       [-0.9577074 , -0.79033315, -0.77837783, ...,  0.17804651,\n",
       "        -0.20452322, -0.7186013 ],\n",
       "       [-1.0019546 , -1.1834075 , -1.1834075 , ...,  0.28117752,\n",
       "        -0.5936852 , -0.81402105],\n",
       "       ...,\n",
       "       [-1.0161966 , -1.057863  , -1.1741474 , ..., -0.2270235 ,\n",
       "        -0.99959636, -0.77541083],\n",
       "       [-1.3774434 , -1.3334916 , -1.3422819 , ...,  0.04158786,\n",
       "        -1.2411046 , -1.2982861 ],\n",
       "       [-1.4698776 , -1.5704279 , -1.2486668 , ...,  0.27969885,\n",
       "        -0.67888135, -0.8464653 ]], dtype=float32)"
      ]
     },
     "execution_count": 21,
     "metadata": {},
     "output_type": "execute_result"
    }
   ],
   "source": [
    "trues[0]"
   ]
  },
  {
   "cell_type": "code",
   "execution_count": 22,
   "metadata": {},
   "outputs": [
    {
     "data": {
      "text/plain": [
       "array([[[-1.4942299 ,  0.3466649 , -0.1794734 , ...,  1.5418237 ,\n",
       "         -0.8713156 , -1.9530109 ],\n",
       "        [-0.9860479 , -0.77252203, -0.638939  , ..., -1.271782  ,\n",
       "         -1.1006117 , -0.6287196 ],\n",
       "        [-1.1362414 , -1.8481455 , -0.8334619 , ..., -1.0091337 ,\n",
       "          0.6884369 ,  0.79988897],\n",
       "        ...,\n",
       "        [-0.6154065 , -0.15223598, -1.4339099 , ..., -1.235589  ,\n",
       "         -0.6562629 , -0.03243496],\n",
       "        [-1.9273536 , -2.5457954 , -1.4822483 , ..., -1.9193256 ,\n",
       "         -0.13780165, -0.3858933 ],\n",
       "        [-1.3667933 , -0.0565958 , -1.4252726 , ..., -0.8693197 ,\n",
       "         -2.3959048 , -0.6017202 ]],\n",
       "\n",
       "       [[-1.7063351 , -1.6945823 ,  0.1893189 , ..., -1.2913091 ,\n",
       "          0.82824945, -0.66409177],\n",
       "        [-0.9802842 , -0.96147496,  0.09971511, ..., -1.4645338 ,\n",
       "         -1.381603  , -1.4522662 ],\n",
       "        [-1.4166349 , -1.0720152 , -0.6512529 , ..., -1.1616634 ,\n",
       "          0.46041048,  0.48068497],\n",
       "        ...,\n",
       "        [-1.0131671 , -1.1718489 , -0.6194771 , ..., -0.6576924 ,\n",
       "         -1.2759889 , -0.3025354 ],\n",
       "        [-0.6673752 , -2.060211  , -2.465354  , ..., -1.5566213 ,\n",
       "         -0.34632665, -0.27534947],\n",
       "        [-1.2705241 , -0.8107574 , -0.86235774, ..., -1.6838936 ,\n",
       "         -0.6418114 ,  0.7179475 ]],\n",
       "\n",
       "       [[-4.741996  , -2.331894  , -0.29351914, ..., -2.7077842 ,\n",
       "         -1.0717223 , -1.3713821 ],\n",
       "        [-0.8063296 , -1.183822  , -0.6114608 , ..., -1.0566928 ,\n",
       "         -1.3832115 , -2.1633945 ],\n",
       "        [-1.8631656 , -1.7717142 , -0.7997202 , ..., -1.3577619 ,\n",
       "         -0.43403444, -0.7907779 ],\n",
       "        ...,\n",
       "        [-1.1509337 , -2.213068  , -0.92413604, ..., -0.60394204,\n",
       "          0.36734444, -0.42282844],\n",
       "        [-0.6121449 , -1.9576957 , -1.1850879 , ..., -1.5194492 ,\n",
       "         -1.0084997 , -0.2747031 ],\n",
       "        [-1.1105299 , -1.8174778 ,  2.5740557 , ..., -0.15093589,\n",
       "         -0.3301348 , -0.35478383]],\n",
       "\n",
       "       ...,\n",
       "\n",
       "       [[-1.5010713 , -1.9068394 , -1.92852   , ..., -1.594862  ,\n",
       "         -2.583757  , -0.04944324],\n",
       "        [-0.8248592 , -1.0135359 , -0.8385546 , ..., -1.5514522 ,\n",
       "         -1.5208079 , -1.7799537 ],\n",
       "        [-1.0736817 , -0.98176754, -1.1535944 , ..., -0.18778747,\n",
       "         -0.2832284 , -0.16213216],\n",
       "        ...,\n",
       "        [-1.2538943 , -1.8551095 , -0.24315399, ..., -1.0182717 ,\n",
       "         -0.9903681 , -0.49900326],\n",
       "        [-1.5778513 , -1.0626824 , -1.0198892 , ...,  0.82233775,\n",
       "         -0.667724  , -0.6454228 ],\n",
       "        [-1.0217607 , -1.8603542 , -1.5589441 , ..., -0.53925097,\n",
       "         -0.23662579, -0.20685782]],\n",
       "\n",
       "       [[-1.6516849 , -1.5458939 , -2.7738895 , ..., -0.5333298 ,\n",
       "          0.05047214, -0.7042924 ],\n",
       "        [-0.9644029 , -0.9191724 , -0.8697879 , ..., -1.1118187 ,\n",
       "         -1.6059759 , -1.3607419 ],\n",
       "        [-1.2478915 , -1.0344676 , -1.0527356 , ..., -0.26264337,\n",
       "          0.29733402, -0.12064783],\n",
       "        ...,\n",
       "        [-1.968015  , -1.8970218 , -1.9588101 , ..., -0.5283338 ,\n",
       "         -1.165019  , -0.04868544],\n",
       "        [-2.1264205 , -1.1065528 , -1.8158519 , ..., -0.85035527,\n",
       "         -2.2283058 , -1.4053677 ],\n",
       "        [-1.6468325 , -2.142482  , -1.6101129 , ..., -0.75375223,\n",
       "         -0.20106626,  0.2216616 ]],\n",
       "\n",
       "       [[-1.1323831 , -1.0641413 , -1.044708  , ..., -0.52777666,\n",
       "         -1.3007015 , -0.85891396],\n",
       "        [-0.92853904, -0.7265116 , -0.9606799 , ..., -1.0114468 ,\n",
       "         -1.4036312 , -2.2741785 ],\n",
       "        [-1.12386   , -1.4519252 , -0.9150761 , ..., -0.36572605,\n",
       "         -0.68227947,  0.37332198],\n",
       "        ...,\n",
       "        [-1.3094188 , -1.08507   , -1.295856  , ...,  0.14808136,\n",
       "         -0.7995684 , -0.62789667],\n",
       "        [-1.3485773 , -1.3361725 , -1.3023312 , ..., -0.91190857,\n",
       "         -0.70061994, -1.078333  ],\n",
       "        [-1.4312859 , -2.1568785 , -0.97696227, ...,  0.02384388,\n",
       "         -0.04409915, -0.17904887]]], dtype=float32)"
      ]
     },
     "execution_count": 22,
     "metadata": {},
     "output_type": "execute_result"
    }
   ],
   "source": [
    "preds[0]"
   ]
  },
  {
   "cell_type": "code",
   "execution_count": 23,
   "metadata": {},
   "outputs": [
    {
     "data": {
      "text/plain": [
       "((7, 35, 370, 30), (7, 370, 24))"
      ]
     },
     "execution_count": 23,
     "metadata": {},
     "output_type": "execute_result"
    }
   ],
   "source": [
    "np.array(preds).shape, np.array(trues).shape"
   ]
  },
  {
   "cell_type": "code",
   "execution_count": 25,
   "metadata": {},
   "outputs": [],
   "source": [
    "gt_data = np.array(trues)\n",
    "synthetic_data = np.array(preds)"
   ]
  },
  {
   "cell_type": "code",
   "execution_count": 26,
   "metadata": {},
   "outputs": [],
   "source": [
    "synthetic_data = synthetic_data[:,:,:, :gt_data.shape[2]]\n",
    "target_mask = np.ones_like(gt_data)"
   ]
  },
  {
   "cell_type": "code",
   "execution_count": 135,
   "metadata": {},
   "outputs": [],
   "source": [
    "# synthetic_data = np.swapaxes(synthetic_data, -1, -2)\n",
    "# gt_data = np.swapaxes(gt_data, -1, -2)\n",
    "# synthetic_data.shape"
   ]
  },
  {
   "cell_type": "code",
   "execution_count": 27,
   "metadata": {},
   "outputs": [],
   "source": [
    "from metrics.imputation_metrics import mse_withmask, mae_withmask, calc_quantile_CRPS, calc_quantile_CRPS_sum"
   ]
  },
  {
   "cell_type": "code",
   "execution_count": 28,
   "metadata": {},
   "outputs": [
    {
     "data": {
      "text/plain": [
       "0.3561742933172929"
      ]
     },
     "execution_count": 28,
     "metadata": {},
     "output_type": "execute_result"
    }
   ],
   "source": [
    "calc_quantile_CRPS_sum(torch.Tensor(gt_data),torch.Tensor(synthetic_data),torch.Tensor(target_mask),mean_scaler=0,scaler=1)"
   ]
  },
  {
   "cell_type": "code",
   "execution_count": 138,
   "metadata": {},
   "outputs": [],
   "source": [
    "# synthetic_data = np.array(synthetic_data).reshape(synthetic_data.shape[0],-1,synthetic_data.shape[2],synthetic_data.shape[3])\n",
    "# gt_data = np.array(gt_data).reshape(gt_data.shape[0],gt_data.shape[2], -1)\n",
    "# target_mask = np.ones_like(gt_data)"
   ]
  },
  {
   "cell_type": "code",
   "execution_count": 29,
   "metadata": {},
   "outputs": [
    {
     "data": {
      "text/plain": [
       "((7, 370, 24), (7, 35, 370, 24))"
      ]
     },
     "execution_count": 29,
     "metadata": {},
     "output_type": "execute_result"
    }
   ],
   "source": [
    "unormzalized_gt_data = []\n",
    "for g in gt_data:\n",
    "    unormzalized_gt_data.append(np.transpose(np.transpose(g)*test_data.std_data+test_data.mean_data))\n",
    "unormzalized_gt_data = np.array(unormzalized_gt_data)\n",
    "unormalized_synthetic_data = []\n",
    "for i in range(len(synthetic_data)):\n",
    "    for j in range(len(synthetic_data[i])):\n",
    "        s = synthetic_data[i][j]\n",
    "        unormalized_synthetic_data.append(np.transpose(np.transpose(s)*test_data.std_data+test_data.mean_data))\n",
    "unormalized_synthetic_data = np.array(unormalized_synthetic_data).reshape(synthetic_data.shape[0],-1,synthetic_data.shape[2],synthetic_data.shape[3])\n",
    "unormzalized_gt_data.shape,unormalized_synthetic_data.shape"
   ]
  },
  {
   "cell_type": "code",
   "execution_count": 140,
   "metadata": {},
   "outputs": [
    {
     "data": {
      "text/plain": [
       "(7, 370, 24)"
      ]
     },
     "execution_count": 140,
     "metadata": {},
     "output_type": "execute_result"
    }
   ],
   "source": [
    "unormzalized_gt_data.shape"
   ]
  },
  {
   "cell_type": "code",
   "execution_count": 141,
   "metadata": {},
   "outputs": [
    {
     "data": {
      "text/plain": [
       "(7, 35, 370, 24)"
      ]
     },
     "execution_count": 141,
     "metadata": {},
     "output_type": "execute_result"
    }
   ],
   "source": [
    "unormalized_synthetic_data.shape"
   ]
  },
  {
   "cell_type": "code",
   "execution_count": 142,
   "metadata": {},
   "outputs": [
    {
     "data": {
      "text/plain": [
       "(7, 370, 24)"
      ]
     },
     "execution_count": 142,
     "metadata": {},
     "output_type": "execute_result"
    }
   ],
   "source": [
    "gt_data.shape"
   ]
  },
  {
   "cell_type": "code",
   "execution_count": 30,
   "metadata": {},
   "outputs": [],
   "source": [
    "unormalized_synthetic_data = np.swapaxes(unormalized_synthetic_data, -1, -2)\n",
    "unormzalized_gt_data = np.swapaxes(unormzalized_gt_data, -1, -2)\n"
   ]
  },
  {
   "cell_type": "code",
   "execution_count": 31,
   "metadata": {},
   "outputs": [],
   "source": [
    "target_mask = np.ones_like(unormzalized_gt_data)"
   ]
  },
  {
   "cell_type": "code",
   "execution_count": 32,
   "metadata": {},
   "outputs": [
    {
     "data": {
      "text/plain": [
       "0.08128854475523296"
      ]
     },
     "execution_count": 32,
     "metadata": {},
     "output_type": "execute_result"
    }
   ],
   "source": [
    "calc_quantile_CRPS_sum(torch.Tensor(unormzalized_gt_data),torch.Tensor(unormalized_synthetic_data),torch.Tensor(target_mask),mean_scaler=0,scaler=1)\n"
   ]
  },
  {
   "cell_type": "code",
   "execution_count": 33,
   "metadata": {},
   "outputs": [
    {
     "data": {
      "text/plain": [
       "0.08128854475523296"
      ]
     },
     "execution_count": 33,
     "metadata": {},
     "output_type": "execute_result"
    }
   ],
   "source": [
    "calc_quantile_CRPS_sum(torch.Tensor(unormzalized_gt_data),torch.Tensor(unormalized_synthetic_data),torch.Tensor(target_mask),mean_scaler=0,scaler=1)\n"
   ]
  },
  {
   "cell_type": "code",
   "execution_count": 34,
   "metadata": {},
   "outputs": [
    {
     "name": "stdout",
     "output_type": "stream",
     "text": [
      "all:   CRPS_sum:\n",
      "0.08128854475523296\n",
      "all: CRPS_sum:\n",
      "Mean CRPS_sum: 0.08956774075826009\n",
      "Standard Deviation CRPS_sum: 0.002802724887745557\n"
     ]
    }
   ],
   "source": [
    "print(\"all:   CRPS_sum:\")\n",
    "print(calc_quantile_CRPS_sum(torch.Tensor(unormzalized_gt_data),torch.Tensor(unormalized_synthetic_data),torch.Tensor(target_mask),mean_scaler=0,scaler=1))\n",
    "print(\"all: CRPS_sum:\")\n",
    "# import pdb; pdb.set_trace()\n",
    "CRPS_sum_1 = calc_quantile_CRPS_sum(torch.Tensor(unormzalized_gt_data),torch.Tensor(unormalized_synthetic_data[:,:10]),torch.Tensor(target_mask),mean_scaler=0,scaler=1)\n",
    "CRPS_sum_2 = calc_quantile_CRPS_sum(torch.Tensor(unormzalized_gt_data),torch.Tensor(unormalized_synthetic_data[:,10:20]),torch.Tensor(target_mask),mean_scaler=0,scaler=1)\n",
    "CRPS_sum_3 = calc_quantile_CRPS_sum(torch.Tensor(unormzalized_gt_data),torch.Tensor(unormalized_synthetic_data[:,20:30]),torch.Tensor(target_mask),mean_scaler=0,scaler=1)\n",
    "\n",
    "CRPS_sum_mean = np.mean([CRPS_sum_1, CRPS_sum_2, CRPS_sum_3])\n",
    "CRPS_sum_std = np.std([CRPS_sum_1, CRPS_sum_2, CRPS_sum_3])\n",
    "print(\"Mean CRPS_sum:\", CRPS_sum_mean)\n",
    "print(\"Standard Deviation CRPS_sum:\", CRPS_sum_std)"
   ]
  },
  {
   "cell_type": "code",
   "execution_count": 36,
   "metadata": {},
   "outputs": [],
   "source": [
    "from metrics.WIS import score"
   ]
  },
  {
   "cell_type": "code",
   "execution_count": 37,
   "metadata": {},
   "outputs": [],
   "source": [
    "synthetic_data = np.swapaxes(unormalized_synthetic_data, -1, -2)\n",
    "\n",
    "labels = np.swapaxes(unormzalized_gt_data, -1, -2)"
   ]
  },
  {
   "cell_type": "code",
   "execution_count": 38,
   "metadata": {},
   "outputs": [],
   "source": [
    "low_q = np.quantile(synthetic_data,0.05,axis=1)\n",
    "high_q = np.quantile(synthetic_data,0.95,axis=1)\n",
    "mid_q = np.quantile(synthetic_data,0.5,axis=1)"
   ]
  },
  {
   "cell_type": "code",
   "execution_count": 39,
   "metadata": {},
   "outputs": [
    {
     "name": "stdout",
     "output_type": "stream",
     "text": [
      "(2590, 24) (2590, 24) (2590, 24)\n"
     ]
    }
   ],
   "source": [
    "high_q_reshape = np.reshape(high_q,newshape=(-1,high_q.shape[-1]))\n",
    "low_q_reshape = np.reshape(low_q,newshape=(-1,low_q.shape[-1]))\n",
    "gt_data_reshape = np.reshape(labels,newshape=(-1,labels.shape[-1]))\n",
    "print(high_q_reshape.shape,low_q_reshape.shape,gt_data_reshape.shape)"
   ]
  },
  {
   "cell_type": "code",
   "execution_count": 40,
   "metadata": {},
   "outputs": [],
   "source": [
    "alpha = 0.05 # to be set by competition hosts\n",
    "if not(alpha > 0 and alpha <= 1):\n",
    "    raise ParticipantVisibleError(f'alpha should be (0,1]. Found {alpha}')\n",
    "\n",
    "MWIS,coverage = score(gt_data_reshape,high_q_reshape,low_q_reshape,alpha)\n",
    "\n",
    "if not(coverage >= (1-alpha)):\n",
    "    raise ParticipantVisibleError(f'Coverage was below {(1-alpha)*100}%')"
   ]
  },
  {
   "cell_type": "code",
   "execution_count": 41,
   "metadata": {},
   "outputs": [
    {
     "data": {
      "text/plain": [
       "(1359.1446534926044, 22.544015444015443)"
      ]
     },
     "execution_count": 41,
     "metadata": {},
     "output_type": "execute_result"
    }
   ],
   "source": [
    "MWIS,coverage"
   ]
  },
  {
   "cell_type": "code",
   "execution_count": null,
   "metadata": {},
   "outputs": [],
   "source": []
  }
 ],
 "metadata": {
  "kernelspec": {
   "display_name": "Python 3 (ipykernel)",
   "language": "python",
   "name": "python3"
  },
  "language_info": {
   "codemirror_mode": {
    "name": "ipython",
    "version": 3
   },
   "file_extension": ".py",
   "mimetype": "text/x-python",
   "name": "python",
   "nbconvert_exporter": "python",
   "pygments_lexer": "ipython3",
   "version": "3.8.19"
  }
 },
 "nbformat": 4,
 "nbformat_minor": 2
}
