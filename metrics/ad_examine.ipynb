{
 "cells": [
  {
   "cell_type": "code",
   "execution_count": 109,
   "metadata": {},
   "outputs": [],
   "source": [
    "import torch\n",
    "import numpy as np\n",
    "import pandas as pd"
   ]
  },
  {
   "cell_type": "code",
   "execution_count": 110,
   "metadata": {},
   "outputs": [],
   "source": [
    "val_gt = np.load(\"../results/ad_simple/val_gt.npy\")\n",
    "val_pred = np.load(\"../results/ad_simple/val_samples.npy\")\n",
    "test_gt = np.load(\"../results/ad_simple/test_gt.npy\")\n",
    "test_pred = np.load(\"../results/ad_simple/test_samples.npy\")\n",
    "val_pred = np.reshape(val_pred,newshape=(val_gt.shape[0],-1,val_gt.shape[1],val_gt.shape[2]))\n",
    "test_pred = np.reshape(test_pred,newshape=(test_gt.shape[0],-1,test_gt.shape[1],test_gt.shape[2]))"
   ]
  },
  {
   "cell_type": "code",
   "execution_count": 111,
   "metadata": {},
   "outputs": [
    {
     "data": {
      "text/plain": [
       "((1325, 25, 100), (1325, 10, 25, 100), (879, 25, 100), (879, 10, 25, 100))"
      ]
     },
     "execution_count": 111,
     "metadata": {},
     "output_type": "execute_result"
    }
   ],
   "source": [
    "val_gt.shape, val_pred.shape, test_gt.shape, test_pred.shape"
   ]
  },
  {
   "cell_type": "code",
   "execution_count": 112,
   "metadata": {},
   "outputs": [],
   "source": [
    "low_q = np.quantile(val_pred,0,axis=1)\n",
    "high_q = np.quantile(val_pred,1,axis=1)\n",
    "mid_q = np.quantile(val_pred,0.5,axis=1)"
   ]
  },
  {
   "cell_type": "code",
   "execution_count": 113,
   "metadata": {},
   "outputs": [
    {
     "data": {
      "text/plain": [
       "((1325, 25, 100), (1325, 25, 100), (1325, 25, 100))"
      ]
     },
     "execution_count": 113,
     "metadata": {},
     "output_type": "execute_result"
    }
   ],
   "source": [
    "low_q.shape, high_q.shape, mid_q.shape"
   ]
  },
  {
   "cell_type": "code",
   "execution_count": 114,
   "metadata": {},
   "outputs": [],
   "source": [
    "#convert all variables to tensors\n",
    "val_gt = torch.tensor(val_gt)\n",
    "val_pred = torch.tensor(val_pred)\n",
    "test_gt = torch.tensor(test_gt)\n",
    "test_pred = torch.tensor(test_pred)\n",
    "low_q = torch.tensor(low_q)\n",
    "high_q = torch.tensor(high_q)\n",
    "mid_q = torch.tensor(mid_q)"
   ]
  },
  {
   "cell_type": "code",
   "execution_count": 115,
   "metadata": {},
   "outputs": [],
   "source": [
    "criterion = torch.nn.MSELoss(reduction='none')"
   ]
  },
  {
   "cell_type": "code",
   "execution_count": 116,
   "metadata": {},
   "outputs": [
    {
     "data": {
      "text/plain": [
       "torch.Size([132500])"
      ]
     },
     "execution_count": 116,
     "metadata": {},
     "output_type": "execute_result"
    }
   ],
   "source": [
    "val_mse = torch.mean(criterion(mid_q,val_gt),dim = -2).view(-1)\n",
    "val_mse.shape"
   ]
  },
  {
   "cell_type": "code",
   "execution_count": 117,
   "metadata": {},
   "outputs": [
    {
     "data": {
      "text/plain": [
       "tensor(7.0067, dtype=torch.float64)"
      ]
     },
     "execution_count": 117,
     "metadata": {},
     "output_type": "execute_result"
    }
   ],
   "source": [
    "torch.quantile(val_mse,0.99)"
   ]
  },
  {
   "cell_type": "code",
   "execution_count": 118,
   "metadata": {},
   "outputs": [
    {
     "data": {
      "text/plain": [
       "tensor([7.6245, 7.2617, 7.7339,  ..., 0.6809, 0.6309, 0.6153],\n",
       "       dtype=torch.float64)"
      ]
     },
     "execution_count": 118,
     "metadata": {},
     "output_type": "execute_result"
    }
   ],
   "source": [
    "torch.max(criterion(mid_q,val_gt),dim=-2)[0].view(-1)"
   ]
  },
  {
   "cell_type": "code",
   "execution_count": 119,
   "metadata": {},
   "outputs": [],
   "source": [
    "low_q = np.quantile(test_pred,0,axis=1)\n",
    "high_q = np.quantile(test_pred,1,axis=1)\n",
    "mid_q = np.quantile(test_pred,0.5,axis=1)\n",
    "low_q = torch.tensor(low_q)\n",
    "high_q = torch.tensor(high_q)\n",
    "mid_q = torch.tensor(mid_q)"
   ]
  },
  {
   "cell_type": "code",
   "execution_count": 120,
   "metadata": {},
   "outputs": [
    {
     "data": {
      "text/plain": [
       "torch.Size([87900])"
      ]
     },
     "execution_count": 120,
     "metadata": {},
     "output_type": "execute_result"
    }
   ],
   "source": [
    "test_mse = torch.mean(criterion(mid_q,test_gt),dim = -2).view(-1)\n",
    "test_mse.shape"
   ]
  },
  {
   "cell_type": "code",
   "execution_count": 121,
   "metadata": {},
   "outputs": [],
   "source": [
    "labels = pd.read_csv(\"../datasets/PSM/test_label.csv\",index_col=0)\n",
    "labels = labels.values.astype(int)"
   ]
  },
  {
   "cell_type": "code",
   "execution_count": 122,
   "metadata": {},
   "outputs": [],
   "source": [
    "labels = torch.from_numpy(labels)"
   ]
  },
  {
   "cell_type": "code",
   "execution_count": 123,
   "metadata": {},
   "outputs": [
    {
     "data": {
      "text/plain": [
       "torch.Size([87841, 1])"
      ]
     },
     "execution_count": 123,
     "metadata": {},
     "output_type": "execute_result"
    }
   ],
   "source": [
    "labels.shape"
   ]
  },
  {
   "cell_type": "code",
   "execution_count": 124,
   "metadata": {},
   "outputs": [],
   "source": [
    "combined = torch.cat([val_mse[:132481],test_mse[:labels.shape[0]]])"
   ]
  },
  {
   "cell_type": "code",
   "execution_count": 125,
   "metadata": {},
   "outputs": [
    {
     "data": {
      "text/plain": [
       "tensor(3.9162, dtype=torch.float64)"
      ]
     },
     "execution_count": 125,
     "metadata": {},
     "output_type": "execute_result"
    }
   ],
   "source": [
    "torch.quantile(combined,0.95)"
   ]
  },
  {
   "cell_type": "code",
   "execution_count": 126,
   "metadata": {},
   "outputs": [],
   "source": [
    "pred = (test_mse>torch.quantile(combined,0.99)).int()"
   ]
  },
  {
   "cell_type": "code",
   "execution_count": 127,
   "metadata": {},
   "outputs": [
    {
     "data": {
      "text/plain": [
       "tensor([0, 0, 0,  ..., 0, 0, 0], dtype=torch.int32)"
      ]
     },
     "execution_count": 127,
     "metadata": {},
     "output_type": "execute_result"
    }
   ],
   "source": [
    "pred"
   ]
  },
  {
   "cell_type": "code",
   "execution_count": 128,
   "metadata": {},
   "outputs": [],
   "source": [
    "pred = pred.reshape(-1,1)"
   ]
  },
  {
   "cell_type": "code",
   "execution_count": 129,
   "metadata": {},
   "outputs": [],
   "source": [
    "pred = pred[:labels.shape[0]]"
   ]
  },
  {
   "cell_type": "code",
   "execution_count": 130,
   "metadata": {},
   "outputs": [
    {
     "data": {
      "text/plain": [
       "(torch.Size([87841, 1]), torch.Size([87841, 1]))"
      ]
     },
     "execution_count": 130,
     "metadata": {},
     "output_type": "execute_result"
    }
   ],
   "source": [
    "pred.shape, labels.shape"
   ]
  },
  {
   "cell_type": "code",
   "execution_count": 131,
   "metadata": {},
   "outputs": [
    {
     "data": {
      "text/plain": [
       "tensor(421)"
      ]
     },
     "execution_count": 131,
     "metadata": {},
     "output_type": "execute_result"
    }
   ],
   "source": [
    "((pred==labels)*labels).sum()"
   ]
  },
  {
   "cell_type": "code",
   "execution_count": 132,
   "metadata": {},
   "outputs": [],
   "source": [
    "pred = np.array(pred)\n",
    "labels = np.array(labels)"
   ]
  },
  {
   "cell_type": "code",
   "execution_count": 133,
   "metadata": {},
   "outputs": [],
   "source": [
    "pred = pred.reshape(-1)\n",
    "labels = labels.reshape(-1)"
   ]
  },
  {
   "cell_type": "code",
   "execution_count": 134,
   "metadata": {},
   "outputs": [
    {
     "data": {
      "text/plain": [
       "0"
      ]
     },
     "execution_count": 134,
     "metadata": {},
     "output_type": "execute_result"
    }
   ],
   "source": [
    "labels[0]"
   ]
  },
  {
   "cell_type": "code",
   "execution_count": 135,
   "metadata": {},
   "outputs": [],
   "source": [
    "anomaly_state = False\n",
    "for i in range(len(labels)):\n",
    "    if labels[i] == 1 and pred[i] == 1 and not anomaly_state:\n",
    "        anomaly_state = True\n",
    "        for j in range(i, 0, -1):\n",
    "            if labels[j] == 0:\n",
    "                break\n",
    "            else:\n",
    "                if pred[j] == 0:\n",
    "                    pred[j] = 1\n",
    "        for j in range(i, len(labels)):\n",
    "            if labels[j] == 0:\n",
    "                break\n",
    "            else:\n",
    "                if pred[j] == 0:\n",
    "                    pred[j] = 1\n",
    "    elif labels[i] == 0:\n",
    "        anomaly_state = False\n",
    "    if anomaly_state:\n",
    "        pred[i] = 1"
   ]
  },
  {
   "cell_type": "code",
   "execution_count": 136,
   "metadata": {},
   "outputs": [
    {
     "name": "stdout",
     "output_type": "stream",
     "text": [
      "Accuracy : 0.9475, Precision : 0.9994, Recall : 0.8112, F-score : 0.8955 \n"
     ]
    }
   ],
   "source": [
    "from sklearn.metrics import precision_recall_fscore_support\n",
    "from sklearn.metrics import accuracy_score\n",
    "accuracy = accuracy_score(labels, pred)\n",
    "precision, recall, f_score, support = precision_recall_fscore_support(labels, pred,\n",
    "                                                                        average='binary')\n",
    "print(\n",
    "    \"Accuracy : {:0.4f}, Precision : {:0.4f}, Recall : {:0.4f}, F-score : {:0.4f} \".format(\n",
    "        accuracy, precision,\n",
    "        recall, f_score))"
   ]
  },
  {
   "cell_type": "code",
   "execution_count": null,
   "metadata": {},
   "outputs": [],
   "source": []
  }
 ],
 "metadata": {
  "kernelspec": {
   "display_name": "gen_ts",
   "language": "python",
   "name": "python3"
  },
  "language_info": {
   "codemirror_mode": {
    "name": "ipython",
    "version": 3
   },
   "file_extension": ".py",
   "mimetype": "text/x-python",
   "name": "python",
   "nbconvert_exporter": "python",
   "pygments_lexer": "ipython3",
   "version": "3.9.18"
  }
 },
 "nbformat": 4,
 "nbformat_minor": 2
}
